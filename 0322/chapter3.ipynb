{
 "cells": [
  {
   "cell_type": "markdown",
   "id": "8d56fc06-03c9-432b-a790-9c09423ab407",
   "metadata": {},
   "source": [
    "print() 입력 값을 기본 콘솔(터미널)로 내보내는 역할!!!\n",
    "\n",
    "**os콘솔**\n",
    "    \n",
    "    - 표준입출력을 수행하는 프로그램!\n",
    "    "
   ]
  },
  {
   "cell_type": "code",
   "execution_count": 1,
   "id": "8897bb22-5c5f-4331-834e-866eeb5ff92a",
   "metadata": {},
   "outputs": [
    {
     "name": "stdout",
     "output_type": "stream",
     "text": [
      "안녕\n"
     ]
    }
   ],
   "source": [
    "print(\"안녕\")"
   ]
  },
  {
   "cell_type": "code",
   "execution_count": 2,
   "id": "f6672088-fffe-40e1-9142-3876914ffac7",
   "metadata": {},
   "outputs": [
    {
     "name": "stdin",
     "output_type": "stream",
     "text": [
      "입력 0456046546\n"
     ]
    },
    {
     "data": {
      "text/plain": [
       "'0456046546'"
      ]
     },
     "execution_count": 2,
     "metadata": {},
     "output_type": "execute_result"
    }
   ],
   "source": [
    "input(\"입력\")"
   ]
  },
  {
   "cell_type": "code",
   "execution_count": 5,
   "id": "c0d3e563-8ea5-409e-99ab-1ee0df5b9ed3",
   "metadata": {},
   "outputs": [
    {
     "name": "stdout",
     "output_type": "stream",
     "text": [
      "100\n",
      "100\n"
     ]
    }
   ],
   "source": [
    "print(\"100\")\n",
    "print(\"%d\" % 100)"
   ]
  },
  {
   "cell_type": "markdown",
   "id": "e81c1312-b3df-4e7f-ac7a-345c4a860a80",
   "metadata": {},
   "source": [
    "형식화문자열(Formatting string)\n",
    "\n",
    "1. % 연결자\n",
    "2. String.format()\n",
    "3. f 리터럴"
   ]
  },
  {
   "cell_type": "code",
   "execution_count": 8,
   "id": "26982dad-9c1c-46f6-a84b-b70d42a60d62",
   "metadata": {},
   "outputs": [
    {
     "name": "stdout",
     "output_type": "stream",
     "text": [
      "입력 100는 50의 평균이고 곱셈은 100*50=5000 입니다.\n"
     ]
    }
   ],
   "source": [
    "print(\"입력 %d는 %d의 평균이고 곱셈은 %d*%d=%d 입니다.\" % (100,50,100,50,(100*50)))"
   ]
  },
  {
   "cell_type": "markdown",
   "id": "c555ff2d-f290-457d-95c9-ac7bf47c174d",
   "metadata": {},
   "source": [
    "f리터럴 방식"
   ]
  },
  {
   "cell_type": "code",
   "execution_count": 23,
   "id": "8c3b5c6e-c0b5-4738-a0fd-2407f6af9e26",
   "metadata": {},
   "outputs": [
    {
     "name": "stdout",
     "output_type": "stream",
     "text": [
      "입력 100는 50의 평균이고 곱셈은100*50=5000 입니다.\n"
     ]
    }
   ],
   "source": [
    "print(f\"입력 {100}는 {50}의 평균이고 곱셈은{100}*{50}={100*50} 입니다.\")"
   ]
  },
  {
   "cell_type": "code",
   "execution_count": 10,
   "id": "73e9030f-c031-4ba8-97d8-685a6affff87",
   "metadata": {},
   "outputs": [
    {
     "name": "stdout",
     "output_type": "stream",
     "text": [
      "1000\n"
     ]
    }
   ],
   "source": [
    "print(\"%d\" % 1000)"
   ]
  },
  {
   "cell_type": "code",
   "execution_count": 12,
   "id": "f199175f-9469-4e64-95f8-6d8063c6f25e",
   "metadata": {},
   "outputs": [
    {
     "name": "stdout",
     "output_type": "stream",
     "text": [
      "0.100000\n"
     ]
    }
   ],
   "source": [
    "print(\"%f\" % 0.1)"
   ]
  },
  {
   "cell_type": "code",
   "execution_count": 16,
   "id": "e3c620b6-e6f4-47b2-82e2-7190b04f3350",
   "metadata": {},
   "outputs": [
    {
     "name": "stdout",
     "output_type": "stream",
     "text": [
      "1 3 7 10 11 12 13 \n"
     ]
    }
   ],
   "source": [
    "print(\"%o %o %o %o %o %o %o \" % (1, 3, 7, 8, 9, 10,11))"
   ]
  },
  {
   "cell_type": "code",
   "execution_count": 15,
   "id": "91ed8cad-e7a5-4dbd-b014-a08a15fda987",
   "metadata": {},
   "outputs": [
    {
     "name": "stdout",
     "output_type": "stream",
     "text": [
      "10\n"
     ]
    }
   ],
   "source": [
    "print(\"%x\" % 16)"
   ]
  },
  {
   "cell_type": "code",
   "execution_count": 18,
   "id": "01ef465d-8840-4299-8fdf-cdb9b2799722",
   "metadata": {},
   "outputs": [
    {
     "name": "stdout",
     "output_type": "stream",
     "text": [
      "123\n",
      "  123\n",
      "00123\n",
      "123.450000\n",
      "  123.5\n",
      "123.450\n",
      "python\n",
      "    python\n"
     ]
    }
   ],
   "source": [
    "print(\"%d\" % 123)\n",
    "print(\"%5d\" % 123)\n",
    "print(\"%05d\" % 123)\n",
    "\n",
    "print(\"%f\" % 123.45)\n",
    "print(\"%7.1f\" % 123.45)\n",
    "print(\"%7.3f\" % 123.45)\n",
    "\n",
    "print(\"%s\" % \"python\")\n",
    "print(\"%10s\" % \"python\")"
   ]
  },
  {
   "cell_type": "code",
   "execution_count": 19,
   "id": "d30438ae-2dc0-4103-a351-335bef970f27",
   "metadata": {},
   "outputs": [
    {
     "name": "stdout",
     "output_type": "stream",
     "text": [
      "123   123 00123\n"
     ]
    }
   ],
   "source": [
    "print(\"%d %5d %05d\" % (123, 123, 123))"
   ]
  },
  {
   "cell_type": "code",
   "execution_count": 29,
   "id": "d4fada25-d5f4-4e8e-8a77-77519f432c95",
   "metadata": {},
   "outputs": [
    {
     "name": "stdout",
     "output_type": "stream",
     "text": [
      "123   234 00567\n"
     ]
    }
   ],
   "source": [
    "print(\"{0:d} {1:5d} {2:05d}\".format(123,234,567))"
   ]
  },
  {
   "cell_type": "code",
   "execution_count": 30,
   "id": "9eb680c5-e327-4630-a1ae-d3f14872a42f",
   "metadata": {},
   "outputs": [
    {
     "name": "stdout",
     "output_type": "stream",
     "text": [
      "\n",
      "줄바꿈\n",
      "연습\n",
      "\t탭키\t연습\n",
      "글자가 \"강조\" 되는 효과1\n",
      "글자가 '강조' 되는 효과2\n",
      "----\t-----\t-----\n",
      "\n",
      "종류\t 설명\t비교\n",
      "\n",
      "----\t-----\t-----\n",
      "\n"
     ]
    }
   ],
   "source": [
    "print(\"\\n줄바꿈\\n연습\")\n",
    "print(\"\\t탭키\\t연습\")\n",
    "print(\"글자가 \\\"강조\\\" 되는 효과1\")\n",
    "print(\"글자가 \\'강조\\' 되는 효과2\")\n",
    "print(\"----\\t-----\\t-----\\n\")\n",
    "print(\"종류\\t 설명\\t비교\\n\")\n",
    "print(\"----\\t-----\\t-----\\n\")"
   ]
  },
  {
   "cell_type": "code",
   "execution_count": 32,
   "id": "0a35b218-586e-44f7-81c0-d67a2f8148bd",
   "metadata": {},
   "outputs": [
    {
     "name": "stdout",
     "output_type": "stream",
     "text": [
      "\\\\\\ 역슬레시 세 게 출력\n"
     ]
    }
   ],
   "source": [
    "print(\"\\\\\\\\\\\\ 역슬레시 세 게 출력\")"
   ]
  },
  {
   "cell_type": "code",
   "execution_count": 33,
   "id": "864f294a-383c-4d9e-8c7c-df3b9fe5291c",
   "metadata": {},
   "outputs": [
    {
     "name": "stdout",
     "output_type": "stream",
     "text": [
      "\\n \\t \\\"\\\\를 그대로 출력\n"
     ]
    }
   ],
   "source": [
    "print(r\"\\n \\t \\\"\\\\를 그대로 출력\")"
   ]
  },
  {
   "cell_type": "code",
   "execution_count": 34,
   "id": "6845b754-115a-4926-9c7b-5a7aca56fcd7",
   "metadata": {},
   "outputs": [
    {
     "name": "stdout",
     "output_type": "stream",
     "text": [
      "     *     \n",
      "    ***    \n",
      "   *****   \n",
      "  *******  \n",
      "   *****   \n",
      "    ***    \n",
      "     *     \n"
     ]
    }
   ],
   "source": [
    "print(\"     *     \")\n",
    "print(\"    ***    \")\n",
    "print(\"   *****   \")\n",
    "print(\"  *******  \")\n",
    "print(\"   *****   \")\n",
    "print(\"    ***    \")\n",
    "print(\"     *     \")"
   ]
  },
  {
   "cell_type": "code",
   "execution_count": 35,
   "id": "5bd9d7e6-7065-4548-b752-45f19ab3f29e",
   "metadata": {},
   "outputs": [
    {
     "name": "stdin",
     "output_type": "stream",
     "text": [
      "숫자1 입력 100\n",
      "숫자2 입력 200\n",
      "숫자3 입력 300\n"
     ]
    },
    {
     "data": {
      "text/plain": [
       "(100, 200, 300)"
      ]
     },
     "execution_count": 35,
     "metadata": {},
     "output_type": "execute_result"
    }
   ],
   "source": [
    "a = int(input(\"숫자1 입력\"))\n",
    "b = int(input(\"숫자2 입력\"))\n",
    "c = int(input(\"숫자3 입력\"))\n",
    "a,b,c"
   ]
  },
  {
   "cell_type": "code",
   "execution_count": 72,
   "id": "76eeeb70-e047-4933-99b5-d715a8df4697",
   "metadata": {},
   "outputs": [
    {
     "name": "stdout",
     "output_type": "stream",
     "text": [
      "100+0+300= 400\n"
     ]
    }
   ],
   "source": [
    "print(f\"{a}+{b}+{c}=\", (a+b+c))"
   ]
  },
  {
   "cell_type": "code",
   "execution_count": 46,
   "id": "07ec3cca-95bb-4364-8e53-9bbade1d37e2",
   "metadata": {},
   "outputs": [
    {
     "data": {
      "text/plain": [
       "float"
      ]
     },
     "execution_count": 46,
     "metadata": {},
     "output_type": "execute_result"
    }
   ],
   "source": [
    "myVar = 100\n",
    "type(myVar)\n",
    "myVar = 100.0\n",
    "type(myVar)"
   ]
  },
  {
   "cell_type": "markdown",
   "id": "6a8c151f-dd98-46b9-ae5b-764b24a5dc87",
   "metadata": {},
   "source": [
    "## Section03\n",
    "\n",
    "- 변수 = 동적타이핑(Dynamic typing) , 자바에서는 문자열 + 정수 합쳐서가능 , 자바에선 결합 연산자로 사용 가능\n",
    "- 파이썬에서는 연산자 사용시 수치로 생각하여 연산방식으로 실행 된다\n",
    "- "
   ]
  },
  {
   "cell_type": "code",
   "execution_count": 48,
   "id": "5916560f-9ca6-4690-95ff-e2296487ae73",
   "metadata": {},
   "outputs": [],
   "source": [
    "# 참거짓 값: True, False"
   ]
  },
  {
   "cell_type": "code",
   "execution_count": 50,
   "id": "587510d2-61ff-4cf9-92d6-9244ba2a2308",
   "metadata": {},
   "outputs": [],
   "source": [
    "boolVar = True"
   ]
  },
  {
   "cell_type": "code",
   "execution_count": 51,
   "id": "e78c8aee-ccb5-4e12-a4cd-d64bae71eb74",
   "metadata": {},
   "outputs": [
    {
     "data": {
      "text/plain": [
       "True"
      ]
     },
     "execution_count": 51,
     "metadata": {},
     "output_type": "execute_result"
    }
   ],
   "source": [
    "boolVar"
   ]
  },
  {
   "cell_type": "code",
   "execution_count": 52,
   "id": "81369d22-36db-40e7-b1da-3cbaeaa8c287",
   "metadata": {},
   "outputs": [
    {
     "data": {
      "text/plain": [
       "'문자열'"
      ]
     },
     "execution_count": 52,
     "metadata": {},
     "output_type": "execute_result"
    }
   ],
   "source": [
    "boolVar = \"문자열\"\n",
    "boolVar"
   ]
  },
  {
   "cell_type": "code",
   "execution_count": 54,
   "id": "a7ee5bc6-a6c5-42e3-afb6-73d9400ba420",
   "metadata": {},
   "outputs": [],
   "source": [
    "boolVar = 0.1"
   ]
  },
  {
   "cell_type": "code",
   "execution_count": null,
   "id": "fc2bbc50-e229-48ac-853d-e6ba21cfad26",
   "metadata": {},
   "outputs": [
    {
     "name": "stdout",
     "output_type": "stream",
     "text": [
      "boolVar는  0.1\n"
     ]
    }
   ],
   "source": [
    "print(\"boolVar는 \" , boolVar)"
   ]
  },
  {
   "cell_type": "code",
   "execution_count": 57,
   "id": "7c0bac46-5909-4010-a3a8-72391c101592",
   "metadata": {},
   "outputs": [
    {
     "name": "stdout",
     "output_type": "stream",
     "text": [
      "boolVar는  0.100000\n"
     ]
    }
   ],
   "source": [
    "print(\"boolVar는 \" , \"%f\" % boolVar)"
   ]
  },
  {
   "cell_type": "code",
   "execution_count": 60,
   "id": "05211194-4dd7-4c0a-b08e-9094db553af5",
   "metadata": {},
   "outputs": [
    {
     "data": {
      "text/plain": [
       "(True, 0, 0.1, '안녕')"
      ]
     },
     "execution_count": 60,
     "metadata": {},
     "output_type": "execute_result"
    }
   ],
   "source": [
    "a, b, f, s = True, 0, 0.1, \"안녕\"\n",
    "a, b, f, s"
   ]
  },
  {
   "cell_type": "code",
   "execution_count": 61,
   "id": "0c1d4cc9-6943-49e8-8ba6-027dc2c41af0",
   "metadata": {},
   "outputs": [],
   "source": [
    "z = y = w = 0"
   ]
  },
  {
   "cell_type": "code",
   "execution_count": 62,
   "id": "fa225d05-6297-47de-8f46-0bbfb9cdf992",
   "metadata": {},
   "outputs": [
    {
     "data": {
      "text/plain": [
       "(0, 0, 0)"
      ]
     },
     "execution_count": 62,
     "metadata": {},
     "output_type": "execute_result"
    }
   ],
   "source": [
    "z, y , w"
   ]
  },
  {
   "cell_type": "markdown",
   "id": "39808f5b-be97-47f6-bd16-2fd36ade8e9b",
   "metadata": {},
   "source": [
    "변수이름\n",
    "\n",
    " - 숫자시작 X\n",
    " - 예약어 X"
   ]
  },
  {
   "cell_type": "markdown",
   "id": "136fbf9a-f90a-46ed-a80f-36bbdb42a374",
   "metadata": {},
   "source": [
    "예약어!"
   ]
  },
  {
   "cell_type": "code",
   "execution_count": 63,
   "id": "5caca6cb-118f-49ee-ae67-4e32a5190a27",
   "metadata": {},
   "outputs": [],
   "source": [
    "import keyword "
   ]
  },
  {
   "cell_type": "code",
   "execution_count": 64,
   "id": "83190766-6322-488f-8715-332eb5bf328c",
   "metadata": {},
   "outputs": [
    {
     "data": {
      "text/plain": [
       "['False',\n",
       " 'None',\n",
       " 'True',\n",
       " '__peg_parser__',\n",
       " 'and',\n",
       " 'as',\n",
       " 'assert',\n",
       " 'async',\n",
       " 'await',\n",
       " 'break',\n",
       " 'class',\n",
       " 'continue',\n",
       " 'def',\n",
       " 'del',\n",
       " 'elif',\n",
       " 'else',\n",
       " 'except',\n",
       " 'finally',\n",
       " 'for',\n",
       " 'from',\n",
       " 'global',\n",
       " 'if',\n",
       " 'import',\n",
       " 'in',\n",
       " 'is',\n",
       " 'lambda',\n",
       " 'nonlocal',\n",
       " 'not',\n",
       " 'or',\n",
       " 'pass',\n",
       " 'raise',\n",
       " 'return',\n",
       " 'try',\n",
       " 'while',\n",
       " 'with',\n",
       " 'yield']"
      ]
     },
     "execution_count": 64,
     "metadata": {},
     "output_type": "execute_result"
    }
   ],
   "source": [
    "keyword.kwlist"
   ]
  },
  {
   "cell_type": "code",
   "execution_count": 65,
   "id": "3b2dc267-7d1f-4c27-9df3-afcac3f79d56",
   "metadata": {},
   "outputs": [
    {
     "data": {
      "text/plain": [
       "float"
      ]
     },
     "execution_count": 65,
     "metadata": {},
     "output_type": "execute_result"
    }
   ],
   "source": [
    "type(myVar)"
   ]
  },
  {
   "cell_type": "code",
   "execution_count": 66,
   "id": "7dabd9a3-2127-4ebe-9b7a-d3eb7e0f9a72",
   "metadata": {},
   "outputs": [
    {
     "data": {
      "text/plain": [
       "bool"
      ]
     },
     "execution_count": 66,
     "metadata": {},
     "output_type": "execute_result"
    }
   ],
   "source": [
    "type(a)"
   ]
  },
  {
   "cell_type": "code",
   "execution_count": 71,
   "id": "79c7ebb7-456d-4d1a-8e55-c81b4b3aa6b5",
   "metadata": {},
   "outputs": [
    {
     "data": {
      "text/plain": [
       "int"
      ]
     },
     "execution_count": 71,
     "metadata": {},
     "output_type": "execute_result"
    }
   ],
   "source": [
    "a = 100\n",
    "type(a)"
   ]
  },
  {
   "cell_type": "code",
   "execution_count": 68,
   "id": "602e120e-cb20-45d5-a270-487abdc9029d",
   "metadata": {},
   "outputs": [
    {
     "data": {
      "text/plain": [
       "100"
      ]
     },
     "execution_count": 68,
     "metadata": {},
     "output_type": "execute_result"
    }
   ],
   "source": [
    "변수 = 100\n",
    "변수"
   ]
  },
  {
   "cell_type": "code",
   "execution_count": 91,
   "id": "3583e8ca-a54a-42ce-9bdf-8df47ee68d8f",
   "metadata": {},
   "outputs": [
    {
     "data": {
      "text/plain": [
       "'0b11111010'"
      ]
     },
     "execution_count": 91,
     "metadata": {},
     "output_type": "execute_result"
    }
   ],
   "source": [
    "bin(0xFA)"
   ]
  },
  {
   "cell_type": "code",
   "execution_count": 92,
   "id": "e3d0b56a-ee46-4ab3-9880-79a31a7135ee",
   "metadata": {},
   "outputs": [
    {
     "data": {
      "text/plain": [
       "'0o223'"
      ]
     },
     "execution_count": 92,
     "metadata": {},
     "output_type": "execute_result"
    }
   ],
   "source": [
    "oct(147)"
   ]
  },
  {
   "cell_type": "code",
   "execution_count": 93,
   "id": "18a45839-2c95-43cf-993e-74b7220e02c2",
   "metadata": {},
   "outputs": [
    {
     "data": {
      "text/plain": [
       "'0x93'"
      ]
     },
     "execution_count": 93,
     "metadata": {},
     "output_type": "execute_result"
    }
   ],
   "source": [
    "hex(147)"
   ]
  },
  {
   "cell_type": "code",
   "execution_count": 1,
   "id": "d9f9392e-d27d-4d01-80fe-e1f3140c1a01",
   "metadata": {},
   "outputs": [
    {
     "data": {
      "text/plain": [
       "147"
      ]
     },
     "execution_count": 1,
     "metadata": {},
     "output_type": "execute_result"
    }
   ],
   "source": [
    "int('10010011', 2)"
   ]
  },
  {
   "cell_type": "code",
   "execution_count": 2,
   "id": "402ff01c-64a8-443b-ad5a-51e5e5d82416",
   "metadata": {},
   "outputs": [
    {
     "data": {
      "text/plain": [
       "250"
      ]
     },
     "execution_count": 2,
     "metadata": {},
     "output_type": "execute_result"
    }
   ],
   "source": [
    "int('FA', 16)"
   ]
  }
 ],
 "metadata": {
  "kernelspec": {
   "display_name": "Python 3 (ipykernel)",
   "language": "python",
   "name": "python3"
  },
  "language_info": {
   "codemirror_mode": {
    "name": "ipython",
    "version": 3
   },
   "file_extension": ".py",
   "mimetype": "text/x-python",
   "name": "python",
   "nbconvert_exporter": "python",
   "pygments_lexer": "ipython3",
   "version": "3.9.7"
  }
 },
 "nbformat": 4,
 "nbformat_minor": 5
}
