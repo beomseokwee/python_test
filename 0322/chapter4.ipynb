{
 "cells": [
  {
   "cell_type": "markdown",
   "id": "52117357-d136-450e-86d6-78ca8fbc8a44",
   "metadata": {},
   "source": [
    "# Chapter4"
   ]
  },
  {
   "cell_type": "code",
   "execution_count": 1,
   "id": "b0347bdd-f09a-4911-9de9-1387c803d359",
   "metadata": {},
   "outputs": [],
   "source": [
    "a = 3; b=5\n"
   ]
  },
  {
   "cell_type": "code",
   "execution_count": 2,
   "id": "763f7989-9599-43a9-97a7-ca005bc1e2d1",
   "metadata": {},
   "outputs": [
    {
     "data": {
      "text/plain": [
       "0"
      ]
     },
     "execution_count": 2,
     "metadata": {},
     "output_type": "execute_result"
    }
   ],
   "source": [
    "a // b"
   ]
  },
  {
   "cell_type": "code",
   "execution_count": 3,
   "id": "f5401788-4637-4dbc-aeed-fc8196b2ec7a",
   "metadata": {},
   "outputs": [
    {
     "data": {
      "text/plain": [
       "3"
      ]
     },
     "execution_count": 3,
     "metadata": {},
     "output_type": "execute_result"
    }
   ],
   "source": [
    "a % b"
   ]
  },
  {
   "cell_type": "markdown",
   "id": "7965c0d5-e9ec-4a97-886e-cbdca2b1cd97",
   "metadata": {},
   "source": [
    "우선순위"
   ]
  },
  {
   "cell_type": "code",
   "execution_count": 4,
   "id": "af6f0770-9ff1-4c81-86e2-45a45a3cd95d",
   "metadata": {},
   "outputs": [],
   "source": [
    "a, b, c = 2,3,4"
   ]
  },
  {
   "cell_type": "code",
   "execution_count": 5,
   "id": "6fca4440-b8f1-49d6-adea-12858bd73af2",
   "metadata": {},
   "outputs": [
    {
     "data": {
      "text/plain": [
       "1"
      ]
     },
     "execution_count": 5,
     "metadata": {},
     "output_type": "execute_result"
    }
   ],
   "source": [
    "a + b - c"
   ]
  },
  {
   "cell_type": "code",
   "execution_count": 6,
   "id": "beb6106f-3676-40d2-9fd5-19b0800e64b3",
   "metadata": {},
   "outputs": [
    {
     "data": {
      "text/plain": [
       "1"
      ]
     },
     "execution_count": 6,
     "metadata": {},
     "output_type": "execute_result"
    }
   ],
   "source": [
    "(a + b) - c"
   ]
  },
  {
   "cell_type": "code",
   "execution_count": 7,
   "id": "6a8a7e72-af45-42e6-9131-580417cd6642",
   "metadata": {},
   "outputs": [
    {
     "data": {
      "text/plain": [
       "1"
      ]
     },
     "execution_count": 7,
     "metadata": {},
     "output_type": "execute_result"
    }
   ],
   "source": [
    "a + (b - c)"
   ]
  },
  {
   "cell_type": "markdown",
   "id": "fa6a8086-72e9-42ff-a5c7-2f4f55704424",
   "metadata": {},
   "source": [
    "# 내장 자료형 함수\n",
    "\n",
    "- int()\n",
    "- bin()\n",
    "- oct()\n",
    "-"
   ]
  },
  {
   "cell_type": "markdown",
   "id": "ab412c0d-4ca0-4e43-98c7-624ae2dcdcf1",
   "metadata": {},
   "source": [
    "- 문자형 자료형 함수\n",
    "    - str()"
   ]
  },
  {
   "cell_type": "code",
   "execution_count": 8,
   "id": "75167732-4c05-46f9-b4ac-bca04ee1e3d4",
   "metadata": {},
   "outputs": [
    {
     "name": "stdout",
     "output_type": "stream",
     "text": [
      "안녕 난100야!\n"
     ]
    }
   ],
   "source": [
    "a = 100\n",
    "print(\"안녕 난\" + str(a) + \"야!\")"
   ]
  },
  {
   "cell_type": "markdown",
   "id": "45ccd744-e59f-4eaf-a300-efb87756a22b",
   "metadata": {},
   "source": [
    "## 복합대입연산자"
   ]
  },
  {
   "cell_type": "code",
   "execution_count": 14,
   "id": "58967199-829b-4603-b772-365049723d13",
   "metadata": {},
   "outputs": [],
   "source": [
    "a = 10"
   ]
  },
  {
   "cell_type": "code",
   "execution_count": 15,
   "id": "dcfbea84-75e4-4073-a927-198a34c389a2",
   "metadata": {},
   "outputs": [
    {
     "data": {
      "text/plain": [
       "13"
      ]
     },
     "execution_count": 15,
     "metadata": {},
     "output_type": "execute_result"
    }
   ],
   "source": [
    "a += 3\n",
    "a"
   ]
  },
  {
   "cell_type": "code",
   "execution_count": 17,
   "id": "5559a2ee-8d9e-482a-92cd-a5df60138254",
   "metadata": {},
   "outputs": [
    {
     "data": {
      "text/plain": [
       "10604499373"
      ]
     },
     "execution_count": 17,
     "metadata": {},
     "output_type": "execute_result"
    }
   ],
   "source": [
    "a **=3\n",
    "a"
   ]
  },
  {
   "cell_type": "markdown",
   "id": "5deef7ed-b51a-4630-884a-3e0f05d99c0d",
   "metadata": {},
   "source": [
    "## 논리 연산자"
   ]
  },
  {
   "cell_type": "code",
   "execution_count": 18,
   "id": "7e6c55f1-7572-456a-bcec-f8ded8114fd2",
   "metadata": {},
   "outputs": [],
   "source": [
    "a = 99"
   ]
  },
  {
   "cell_type": "code",
   "execution_count": 19,
   "id": "a3794842-4f9f-4fcd-a881-9777e60944cd",
   "metadata": {},
   "outputs": [
    {
     "data": {
      "text/plain": [
       "False"
      ]
     },
     "execution_count": 19,
     "metadata": {},
     "output_type": "execute_result"
    }
   ],
   "source": [
    "#논리곱\n",
    "a > 100"
   ]
  },
  {
   "cell_type": "code",
   "execution_count": 20,
   "id": "d5c3407e-d719-4a62-982c-3cad9bf875f6",
   "metadata": {},
   "outputs": [
    {
     "data": {
      "text/plain": [
       "False"
      ]
     },
     "execution_count": 20,
     "metadata": {},
     "output_type": "execute_result"
    }
   ],
   "source": [
    "# a가 100보다 크고 200보다 작은거!!!\n",
    "(a > 100) and (a < 200)"
   ]
  },
  {
   "cell_type": "code",
   "execution_count": 21,
   "id": "d0e73a5c-5baf-466b-9b3e-c9ddb2315097",
   "metadata": {},
   "outputs": [
    {
     "data": {
      "text/plain": [
       "True"
      ]
     },
     "execution_count": 21,
     "metadata": {},
     "output_type": "execute_result"
    }
   ],
   "source": [
    "(a > 100) or (a < 200)"
   ]
  },
  {
   "cell_type": "code",
   "execution_count": 22,
   "id": "35b2300e-f80a-4045-a7e6-1eb428b63bd6",
   "metadata": {},
   "outputs": [
    {
     "data": {
      "text/plain": [
       "False"
      ]
     },
     "execution_count": 22,
     "metadata": {},
     "output_type": "execute_result"
    }
   ],
   "source": [
    "# 반대!\n",
    "not True"
   ]
  },
  {
   "cell_type": "code",
   "execution_count": 23,
   "id": "f5492eeb-6e30-4018-b0c7-336189d74b66",
   "metadata": {},
   "outputs": [
    {
     "data": {
      "text/plain": [
       "True"
      ]
     },
     "execution_count": 23,
     "metadata": {},
     "output_type": "execute_result"
    }
   ],
   "source": [
    "not(a > 100)"
   ]
  },
  {
   "cell_type": "markdown",
   "id": "7b6d19d6-6045-4cf1-85a0-52362c67f42c",
   "metadata": {},
   "source": [
    "## 비트 연산자"
   ]
  },
  {
   "cell_type": "code",
   "execution_count": 24,
   "id": "f14aa8b5-2d12-4198-a3a8-ba2b2b6d0ee6",
   "metadata": {},
   "outputs": [],
   "source": [
    "# 비트 논리연산"
   ]
  },
  {
   "cell_type": "code",
   "execution_count": 25,
   "id": "251857d2-ea2d-4bc2-ad0c-b7bfbc141b1b",
   "metadata": {},
   "outputs": [
    {
     "data": {
      "text/plain": [
       "2"
      ]
     },
     "execution_count": 25,
     "metadata": {},
     "output_type": "execute_result"
    }
   ],
   "source": [
    "10 & 7"
   ]
  },
  {
   "cell_type": "code",
   "execution_count": null,
   "id": "e975bdb5-9095-459d-96a8-b0e816a4e234",
   "metadata": {},
   "outputs": [],
   "source": [
    "'''\n",
    "    0b1010\n",
    "&   "
   ]
  },
  {
   "cell_type": "code",
   "execution_count": 26,
   "id": "798998d4-e42c-44a8-a306-924ea9f45d00",
   "metadata": {},
   "outputs": [
    {
     "data": {
      "text/plain": [
       "'0b10'"
      ]
     },
     "execution_count": 26,
     "metadata": {},
     "output_type": "execute_result"
    }
   ],
   "source": [
    "bin(10 & 7)"
   ]
  },
  {
   "cell_type": "code",
   "execution_count": 27,
   "id": "5a7be008-2753-44d8-9a15-fba820771a4a",
   "metadata": {},
   "outputs": [
    {
     "data": {
      "text/plain": [
       "0"
      ]
     },
     "execution_count": 27,
     "metadata": {},
     "output_type": "execute_result"
    }
   ],
   "source": [
    "2 & 1"
   ]
  },
  {
   "cell_type": "code",
   "execution_count": 28,
   "id": "18329b36-2fe0-4d34-90db-e145bf79afc6",
   "metadata": {},
   "outputs": [
    {
     "data": {
      "text/plain": [
       "('0b1111011', '0b111001000')"
      ]
     },
     "execution_count": 28,
     "metadata": {},
     "output_type": "execute_result"
    }
   ],
   "source": [
    "bin(123), bin(456)"
   ]
  },
  {
   "cell_type": "code",
   "execution_count": 29,
   "id": "46aa90d9-db01-4712-8ae8-3bf5b95a1fa7",
   "metadata": {},
   "outputs": [
    {
     "data": {
      "text/plain": [
       "\"\\n    '0b1111011'\\n& '0b111001000'\\n\""
      ]
     },
     "execution_count": 29,
     "metadata": {},
     "output_type": "execute_result"
    }
   ],
   "source": [
    "'''\n",
    "    '0b1111011'\n",
    "& '0b111001000'\n",
    "'''"
   ]
  },
  {
   "cell_type": "code",
   "execution_count": 30,
   "id": "1cec583f-b67a-4ed4-bda2-6e9d058d3681",
   "metadata": {},
   "outputs": [
    {
     "data": {
      "text/plain": [
       "'0b1001000'"
      ]
     },
     "execution_count": 30,
     "metadata": {},
     "output_type": "execute_result"
    }
   ],
   "source": [
    "bin(123 & 456)"
   ]
  },
  {
   "cell_type": "code",
   "execution_count": 31,
   "id": "cf1caa2c-0060-4d54-82e2-e55e9b806955",
   "metadata": {},
   "outputs": [
    {
     "data": {
      "text/plain": [
       "'0b10'"
      ]
     },
     "execution_count": 31,
     "metadata": {},
     "output_type": "execute_result"
    }
   ],
   "source": [
    "bin(2)"
   ]
  },
  {
   "cell_type": "code",
   "execution_count": 35,
   "id": "5472c645-7042-4e5c-8e75-c389997a8349",
   "metadata": {},
   "outputs": [
    {
     "data": {
      "text/plain": [
       "-3"
      ]
     },
     "execution_count": 35,
     "metadata": {},
     "output_type": "execute_result"
    }
   ],
   "source": [
    "~2"
   ]
  },
  {
   "cell_type": "code",
   "execution_count": 36,
   "id": "5f914cbb-d826-42d0-8974-aacb112482bc",
   "metadata": {},
   "outputs": [
    {
     "data": {
      "text/plain": [
       "'-0b11'"
      ]
     },
     "execution_count": 36,
     "metadata": {},
     "output_type": "execute_result"
    }
   ],
   "source": [
    "bin(~2)"
   ]
  },
  {
   "cell_type": "code",
   "execution_count": 37,
   "id": "5ebaa20d-8e2e-48c7-9965-6f43ede90a68",
   "metadata": {},
   "outputs": [
    {
     "data": {
      "text/plain": [
       "('0b1010', '0b111')"
      ]
     },
     "execution_count": 37,
     "metadata": {},
     "output_type": "execute_result"
    }
   ],
   "source": [
    "bin(10), bin(7)"
   ]
  },
  {
   "cell_type": "code",
   "execution_count": 38,
   "id": "b734e204-bf55-45ac-a079-58127c61293c",
   "metadata": {},
   "outputs": [
    {
     "data": {
      "text/plain": [
       "15"
      ]
     },
     "execution_count": 38,
     "metadata": {},
     "output_type": "execute_result"
    }
   ],
   "source": [
    "10 | 7"
   ]
  },
  {
   "cell_type": "code",
   "execution_count": 39,
   "id": "9b2ae641-1ddf-40a2-acf9-e7baac925513",
   "metadata": {},
   "outputs": [
    {
     "data": {
      "text/plain": [
       "'0b1111'"
      ]
     },
     "execution_count": 39,
     "metadata": {},
     "output_type": "execute_result"
    }
   ],
   "source": [
    "bin(10 | 7)"
   ]
  },
  {
   "cell_type": "code",
   "execution_count": 40,
   "id": "cb9970fe-a04b-42fe-b631-9388f6dd7584",
   "metadata": {},
   "outputs": [
    {
     "data": {
      "text/plain": [
       "'0xf'"
      ]
     },
     "execution_count": 40,
     "metadata": {},
     "output_type": "execute_result"
    }
   ],
   "source": [
    "hex(10 | 7)"
   ]
  },
  {
   "cell_type": "markdown",
   "id": "5b62e6bc-7112-46d8-8051-71e1b972995f",
   "metadata": {},
   "source": [
    "# 배타적 논리합\n"
   ]
  },
  {
   "cell_type": "code",
   "execution_count": 41,
   "id": "7f02a424-d9cd-4faa-b705-10809b0d8160",
   "metadata": {},
   "outputs": [
    {
     "data": {
      "text/plain": [
       "('0b1010', '0b111')"
      ]
     },
     "execution_count": 41,
     "metadata": {},
     "output_type": "execute_result"
    }
   ],
   "source": [
    "bin(10), bin(7)"
   ]
  },
  {
   "cell_type": "code",
   "execution_count": 42,
   "id": "a0a6227f-d5d4-4436-8a68-8abe76767883",
   "metadata": {},
   "outputs": [
    {
     "data": {
      "text/plain": [
       "'0b1101'"
      ]
     },
     "execution_count": 42,
     "metadata": {},
     "output_type": "execute_result"
    }
   ],
   "source": [
    "bin(10 ^ 7)"
   ]
  },
  {
   "cell_type": "code",
   "execution_count": 45,
   "id": "96f945a1-25dd-44a3-a453-cb80b572b181",
   "metadata": {},
   "outputs": [
    {
     "data": {
      "text/plain": [
       "'0b1111'"
      ]
     },
     "execution_count": 45,
     "metadata": {},
     "output_type": "execute_result"
    }
   ],
   "source": [
    "bin(10 | 7)"
   ]
  },
  {
   "cell_type": "markdown",
   "id": "26209844-796f-4b23-ac98-dd521203b937",
   "metadata": {},
   "source": [
    "Masking 기법 : 비트 기반 연산!!!\n",
    "\n",
    "```\n",
    "00010 & 11000\n",
    "```"
   ]
  },
  {
   "cell_type": "markdown",
   "id": "c5d35585-4068-4c7b-90c8-520baf0ce2f3",
   "metadata": {},
   "source": [
    "## 쉬프트 연산자\n",
    "    \n",
    "    >>\n",
    "    <<"
   ]
  },
  {
   "cell_type": "code",
   "execution_count": 48,
   "id": "a4eefc8f-2c1d-4ed6-94cc-35bfbde588c3",
   "metadata": {},
   "outputs": [
    {
     "data": {
      "text/plain": [
       "'0b1010'"
      ]
     },
     "execution_count": 48,
     "metadata": {},
     "output_type": "execute_result"
    }
   ],
   "source": [
    "a = 10; bin(a)"
   ]
  },
  {
   "cell_type": "code",
   "execution_count": 49,
   "id": "1955efd4-8235-4840-a4a5-9ef3a6d2fe88",
   "metadata": {},
   "outputs": [
    {
     "data": {
      "text/plain": [
       "20"
      ]
     },
     "execution_count": 49,
     "metadata": {},
     "output_type": "execute_result"
    }
   ],
   "source": [
    "a << 1  # 1칸"
   ]
  },
  {
   "cell_type": "code",
   "execution_count": 50,
   "id": "1eff97da-66e3-438b-9c05-8191cd7e561b",
   "metadata": {},
   "outputs": [
    {
     "data": {
      "text/plain": [
       "'0b10100'"
      ]
     },
     "execution_count": 50,
     "metadata": {},
     "output_type": "execute_result"
    }
   ],
   "source": [
    "bin( a << 1)"
   ]
  },
  {
   "cell_type": "code",
   "execution_count": 51,
   "id": "1ffa2e33-bb6f-4882-a732-9ce6ab9ed292",
   "metadata": {},
   "outputs": [
    {
     "data": {
      "text/plain": [
       "'0b101000'"
      ]
     },
     "execution_count": 51,
     "metadata": {},
     "output_type": "execute_result"
    }
   ],
   "source": [
    "bin( a << 2)"
   ]
  },
  {
   "cell_type": "code",
   "execution_count": 52,
   "id": "afe7fbc8-e9c8-425e-9ee4-6e45314523c5",
   "metadata": {},
   "outputs": [
    {
     "data": {
      "text/plain": [
       "'0b101'"
      ]
     },
     "execution_count": 52,
     "metadata": {},
     "output_type": "execute_result"
    }
   ],
   "source": [
    "# >>\n",
    "bin(a >> 1)"
   ]
  },
  {
   "cell_type": "code",
   "execution_count": 53,
   "id": "c4ede128-4c08-4376-8cff-488cf83ade17",
   "metadata": {},
   "outputs": [],
   "source": [
    "a = 12345"
   ]
  },
  {
   "cell_type": "code",
   "execution_count": 55,
   "id": "47a6e675-0a33-4092-842c-086aeb561032",
   "metadata": {},
   "outputs": [
    {
     "data": {
      "text/plain": [
       "-12345"
      ]
     },
     "execution_count": 55,
     "metadata": {},
     "output_type": "execute_result"
    }
   ],
   "source": [
    "~a + 1"
   ]
  },
  {
   "cell_type": "code",
   "execution_count": 56,
   "id": "a5c68095-6798-4576-b87a-51e71c8e8e3d",
   "metadata": {},
   "outputs": [
    {
     "name": "stdout",
     "output_type": "stream",
     "text": [
      "100 << 1 = 200\n",
      "100 << 2 = 400\n",
      "100 << 3 = 800\n",
      "100 << 4 = 1600\n"
     ]
    }
   ],
   "source": [
    "a = 100\n",
    "result = 0\n",
    "i = 0\n",
    "\n",
    "for i in range(1,5) :\n",
    "    result = a << i\n",
    "    print(\"%d << %d = %d\" % (a, i, result\n",
    "                            ))"
   ]
  },
  {
   "cell_type": "code",
   "execution_count": 59,
   "id": "8e12c507-731e-4fa3-8f77-4319947b5f94",
   "metadata": {},
   "outputs": [
    {
     "name": "stdin",
     "output_type": "stream",
     "text": [
      "연도를 입렵하세요: 2022\n"
     ]
    }
   ],
   "source": [
    "year = int(input(\"연도를 입렵하세요:\"))"
   ]
  },
  {
   "cell_type": "code",
   "execution_count": 60,
   "id": "3b99b35c-7792-4feb-af79-a0927302a0c9",
   "metadata": {},
   "outputs": [
    {
     "data": {
      "text/plain": [
       "False"
      ]
     },
     "execution_count": 60,
     "metadata": {},
     "output_type": "execute_result"
    }
   ],
   "source": [
    "(year % 4 == 0) and ( year % 100 !=0)"
   ]
  },
  {
   "cell_type": "code",
   "execution_count": 61,
   "id": "bc42eb80-12b8-4c5c-93ac-d221c4f35169",
   "metadata": {},
   "outputs": [
    {
     "data": {
      "text/plain": [
       "False"
      ]
     },
     "execution_count": 61,
     "metadata": {},
     "output_type": "execute_result"
    }
   ],
   "source": [
    "( year % 400 == 0 )"
   ]
  },
  {
   "cell_type": "code",
   "execution_count": 63,
   "id": "05d9ef73-bcb2-4c1c-85a6-c7652036cc4e",
   "metadata": {},
   "outputs": [
    {
     "name": "stdin",
     "output_type": "stream",
     "text": [
      "연도를 입력하세요 :  2022\n"
     ]
    },
    {
     "name": "stdout",
     "output_type": "stream",
     "text": [
      "2022년은 윤년이 아닙니다.\n"
     ]
    }
   ],
   "source": [
    "year =0\n",
    "\n",
    "if __name__==\"__main__\":\n",
    "    year = int(input(\"연도를 입력하세요 : \"))\n",
    "    \n",
    "    if ((year % 4 == 0) and ( year % 100 !=0)) or ( year % 400 == 0 ) :\n",
    "        print(\"%d년은 윤년입니다.\" % year);\n",
    "        \n",
    "    else :\n",
    "        print(\"%d년은 윤년이 아닙니다.\" % year);"
   ]
  }
 ],
 "metadata": {
  "kernelspec": {
   "display_name": "Python 3 (ipykernel)",
   "language": "python",
   "name": "python3"
  },
  "language_info": {
   "codemirror_mode": {
    "name": "ipython",
    "version": 3
   },
   "file_extension": ".py",
   "mimetype": "text/x-python",
   "name": "python",
   "nbconvert_exporter": "python",
   "pygments_lexer": "ipython3",
   "version": "3.9.7"
  }
 },
 "nbformat": 4,
 "nbformat_minor": 5
}
