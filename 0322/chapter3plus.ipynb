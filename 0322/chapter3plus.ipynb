{
 "cells": [
  {
   "cell_type": "code",
   "execution_count": 7,
   "id": "1c979a55-b144-4e11-8894-5a99b170b626",
   "metadata": {},
   "outputs": [
    {
     "name": "stdin",
     "output_type": "stream",
     "text": [
      "입력 진수 결정(16/10/8/2) :  10\n",
      "값 입력 :  265\n"
     ]
    },
    {
     "name": "stdout",
     "output_type": "stream",
     "text": [
      "16진수==> 0x109\n",
      "10진수==> 265\n",
      "8진수==> 0o411\n",
      "8진수==> 0b100001001\n"
     ]
    }
   ],
   "source": [
    "sel = int(input(\"입력 진수 결정(16/10/8/2) : \"))\n",
    "num = input(\"값 입력 : \")\n",
    "\n",
    "if sel == 16 : \n",
    "    num10 = int(num,16)\n",
    "if sel == 10 :\n",
    "    num10 = int(num,10)\n",
    "if sel == 8 :\n",
    "    num10 = int(num,8)\n",
    "if sel == 2 :\n",
    "    num10 = int(num,2)\n",
    "    \n",
    "print(\"16진수==>\" , hex(num10))\n",
    "print(\"10진수==>\" , (num10))\n",
    "print(\"8진수==>\" , oct(num10))\n",
    "print(\"8진수==>\" , bin(num10))"
   ]
  },
  {
   "cell_type": "markdown",
   "id": "0281fbe8-2e56-40ce-8fc9-1e14fdd9ebc5",
   "metadata": {},
   "source": [
    "> 81쪽->조건문 하고 다시 돌아와서 실습하기"
   ]
  },
  {
   "cell_type": "code",
   "execution_count": 8,
   "id": "d2ede8f2-6c5a-43f0-b5d9-d2afb56c411d",
   "metadata": {},
   "outputs": [
    {
     "data": {
      "text/plain": [
       "(10, '265')"
      ]
     },
     "execution_count": 8,
     "metadata": {},
     "output_type": "execute_result"
    }
   ],
   "source": [
    "sel, num"
   ]
  },
  {
   "cell_type": "markdown",
   "id": "3d27f74b-6ff8-4494-a5f9-c74bfd5f6f52",
   "metadata": {},
   "source": [
    "# Sec05 기본 데이터형\n",
    "\n",
    "기본형식 --> 하나의 값을 저장하는 방법!"
   ]
  },
  {
   "cell_type": "code",
   "execution_count": 3,
   "id": "73c7a2af-8c72-45b5-8df4-964e7313e0e4",
   "metadata": {},
   "outputs": [
    {
     "data": {
      "text/plain": [
       "int"
      ]
     },
     "execution_count": 3,
     "metadata": {},
     "output_type": "execute_result"
    }
   ],
   "source": [
    "a = 123\n",
    "type(a)"
   ]
  },
  {
   "cell_type": "code",
   "execution_count": 4,
   "id": "e737003c-9c13-4f17-b373-f55e9fa5c302",
   "metadata": {},
   "outputs": [
    {
     "data": {
      "text/plain": [
       "int"
      ]
     },
     "execution_count": 4,
     "metadata": {},
     "output_type": "execute_result"
    }
   ],
   "source": [
    "a = 0xFF\n",
    "type(a)"
   ]
  },
  {
   "cell_type": "code",
   "execution_count": 5,
   "id": "fd1dbe05-c874-461c-b187-c3dca70f92f1",
   "metadata": {},
   "outputs": [
    {
     "data": {
      "text/plain": [
       "int"
      ]
     },
     "execution_count": 5,
     "metadata": {},
     "output_type": "execute_result"
    }
   ],
   "source": [
    "type(0b11111)"
   ]
  },
  {
   "cell_type": "code",
   "execution_count": 6,
   "id": "d8ea946f-e06f-4259-925f-2b95854ae949",
   "metadata": {},
   "outputs": [],
   "source": [
    "a = 3.14\n",
    "b = 3.14e5"
   ]
  },
  {
   "cell_type": "code",
   "execution_count": 7,
   "id": "c698713d-ecbf-4fd9-8f6f-35645a42df1d",
   "metadata": {},
   "outputs": [
    {
     "data": {
      "text/plain": [
       "3.14"
      ]
     },
     "execution_count": 7,
     "metadata": {},
     "output_type": "execute_result"
    }
   ],
   "source": [
    "a"
   ]
  },
  {
   "cell_type": "code",
   "execution_count": 8,
   "id": "8c6c48eb-0d45-4b80-b011-0105d7127e76",
   "metadata": {},
   "outputs": [
    {
     "data": {
      "text/plain": [
       "314000.0"
      ]
     },
     "execution_count": 8,
     "metadata": {},
     "output_type": "execute_result"
    }
   ],
   "source": [
    "b"
   ]
  },
  {
   "cell_type": "code",
   "execution_count": 10,
   "id": "0e465102-da55-4481-a884-fe6711fa95d9",
   "metadata": {},
   "outputs": [
    {
     "data": {
      "text/plain": [
       "110000.0"
      ]
     },
     "execution_count": 10,
     "metadata": {},
     "output_type": "execute_result"
    }
   ],
   "source": [
    "1.1e5"
   ]
  },
  {
   "cell_type": "code",
   "execution_count": 11,
   "id": "c9396e2f-5990-4f40-ab21-be1e73deb9f6",
   "metadata": {},
   "outputs": [
    {
     "data": {
      "text/plain": [
       "101000.0"
      ]
     },
     "execution_count": 11,
     "metadata": {},
     "output_type": "execute_result"
    }
   ],
   "source": [
    "1.01e5 "
   ]
  },
  {
   "cell_type": "code",
   "execution_count": 15,
   "id": "c4edd85b-d20e-4a33-8f77-12f74df7977a",
   "metadata": {},
   "outputs": [
    {
     "name": "stdout",
     "output_type": "stream",
     "text": [
      "30 -10 200 0.5\n"
     ]
    }
   ],
   "source": [
    "a = 10; b = 20\n",
    "print (a + b, a - b, a * b, a / b)"
   ]
  },
  {
   "cell_type": "markdown",
   "id": "b55efa7d-0812-4e73-a67b-dfb83f5113ac",
   "metadata": {},
   "source": [
    "1. 정밀도가 큰 자료형으로 결과가 반환!\n",
    "2. 자료 범위가 큰 자료형으로 결과가 반환! <----python"
   ]
  },
  {
   "cell_type": "code",
   "execution_count": 13,
   "id": "5a89ae59-20e4-4d50-b486-4e0eaa0a0c98",
   "metadata": {},
   "outputs": [
    {
     "data": {
      "text/plain": [
       "10"
      ]
     },
     "execution_count": 13,
     "metadata": {},
     "output_type": "execute_result"
    }
   ],
   "source": [
    "a % b"
   ]
  },
  {
   "cell_type": "code",
   "execution_count": 14,
   "id": "622de383-6931-4cce-a9d9-a7d9a2d260d3",
   "metadata": {},
   "outputs": [
    {
     "data": {
      "text/plain": [
       "0"
      ]
     },
     "execution_count": 14,
     "metadata": {},
     "output_type": "execute_result"
    }
   ],
   "source": [
    "a // b"
   ]
  },
  {
   "cell_type": "markdown",
   "id": "6098c9af-62a9-4b9f-95a3-3fa2dd2ec313",
   "metadata": {},
   "source": [
    "불리언:True,False"
   ]
  },
  {
   "cell_type": "code",
   "execution_count": 16,
   "id": "b6e7ffa0-73c6-401e-ad4f-3b2d43210c09",
   "metadata": {},
   "outputs": [
    {
     "data": {
      "text/plain": [
       "bool"
      ]
     },
     "execution_count": 16,
     "metadata": {},
     "output_type": "execute_result"
    }
   ],
   "source": [
    "type(True)"
   ]
  },
  {
   "cell_type": "code",
   "execution_count": 17,
   "id": "7ba26b2f-03ed-4854-9dcd-18d70e25c26a",
   "metadata": {},
   "outputs": [
    {
     "data": {
      "text/plain": [
       "(False, True)"
      ]
     },
     "execution_count": 17,
     "metadata": {},
     "output_type": "execute_result"
    }
   ],
   "source": [
    "10 == 1, 10 == 10"
   ]
  },
  {
   "cell_type": "markdown",
   "id": "0edccfc2-c68b-4a8f-bf6d-b1fb3b7ee415",
   "metadata": {},
   "source": [
    "\n",
    "문자열:문자의 집합!"
   ]
  },
  {
   "cell_type": "code",
   "execution_count": 18,
   "id": "d10d9657-9ad9-431e-b735-716226e26a38",
   "metadata": {},
   "outputs": [
    {
     "data": {
      "text/plain": [
       "'안녕하세요'"
      ]
     },
     "execution_count": 18,
     "metadata": {},
     "output_type": "execute_result"
    }
   ],
   "source": [
    "\"안녕하세요\""
   ]
  },
  {
   "cell_type": "code",
   "execution_count": 19,
   "id": "8e9bec6f-babb-4d25-a5c2-c99178fbc2d6",
   "metadata": {},
   "outputs": [
    {
     "data": {
      "text/plain": [
       "'안녕하세요'"
      ]
     },
     "execution_count": 19,
     "metadata": {},
     "output_type": "execute_result"
    }
   ],
   "source": [
    "'안녕하세요'"
   ]
  },
  {
   "cell_type": "code",
   "execution_count": 20,
   "id": "7a73cb08-b5f2-4293-8da6-55825f343020",
   "metadata": {},
   "outputs": [
    {
     "data": {
      "text/plain": [
       "str"
      ]
     },
     "execution_count": 20,
     "metadata": {},
     "output_type": "execute_result"
    }
   ],
   "source": [
    "a = '안녕하세요'\n",
    "type(a)"
   ]
  },
  {
   "cell_type": "markdown",
   "id": "e6f827af-f8d6-4329-84a2-0f2967389966",
   "metadata": {},
   "source": [
    " docstrings"
   ]
  },
  {
   "cell_type": "code",
   "execution_count": 22,
   "id": "ba0ae348-123d-41a8-a16c-29d58eb53d96",
   "metadata": {},
   "outputs": [],
   "source": [
    "a = \"\"\" \n",
    "안녕하세용\n",
    "반갑습니다.\n",
    "파이썬 교육 수료하셨습니다.\n",
    "\"\"\""
   ]
  },
  {
   "cell_type": "code",
   "execution_count": 23,
   "id": "17a314b3-7e17-43ee-9cea-6a775a69394b",
   "metadata": {},
   "outputs": [
    {
     "name": "stdout",
     "output_type": "stream",
     "text": [
      "메인 함수 부분이 실행됩니다.\n",
      "함수를 호출함.\n",
      "전역 변수 값 100\n"
     ]
    }
   ],
   "source": [
    "def myFunc() :\n",
    "    print(\"함수를 호출함.\")\n",
    "    \n",
    "## 전역 변수 선언 부분 ##\n",
    "gVar = 100 \n",
    "\n",
    "## 메인 코드 부분 ##\n",
    "if __name__=='__main__':\n",
    "    print('메인 함수 부분이 실행됩니다.')\n",
    "    myFunc()\n",
    "    print('전역 변수 값', gVar)"
   ]
  },
  {
   "cell_type": "code",
   "execution_count": 26,
   "id": "6c432afc-fe03-46ac-a3cd-e2e21b26f56e",
   "metadata": {},
   "outputs": [
    {
     "name": "stdout",
     "output_type": "stream",
     "text": [
      "메인 함수 부분이 실행됩니다.\n",
      "함수를 호출함.\n",
      "전역변수값 =  100\n"
     ]
    }
   ],
   "source": [
    "def myFunc():\n",
    "    print('함수를 호출함.')\n",
    "    \n",
    "gVar = 100\n",
    "\n",
    "def main():\n",
    "    print('메인 함수 부분이 실행됩니다.')\n",
    "    myFunc()\n",
    "    print('전역변수값 = ', gVar )\n",
    "\n",
    "if __name__== '__main__':\n",
    "    main()"
   ]
  },
  {
   "cell_type": "code",
   "execution_count": 34,
   "id": "d119f845-f8b2-4259-a438-1a129f0f16fd",
   "metadata": {},
   "outputs": [
    {
     "name": "stdout",
     "output_type": "stream",
     "text": [
      "10진수==> 12345678\n",
      "16진수==> 0xbc614e\n",
      "8진수==> 0o57060516\n",
      "2진수==> 0b101111000110000101001110\n"
     ]
    }
   ],
   "source": [
    "num = 12345678\n",
    "\n",
    "\n",
    "\n",
    "\n",
    "\n",
    "\n",
    "\n",
    "print(\"10진수==>\" , num)\n",
    "print(\"16진수==>\" , hex(num))\n",
    "print(\"8진수==>\" , oct(num))\n",
    "print(\"2진수==>\" , bin(num))"
   ]
  },
  {
   "cell_type": "code",
   "execution_count": 27,
   "id": "4ef99b92-d247-4a84-9ea1-0abb6cb7694a",
   "metadata": {},
   "outputs": [
    {
     "name": "stdout",
     "output_type": "stream",
     "text": [
      "50 +50\n"
     ]
    }
   ],
   "source": [
    "print(\"50 +50\")"
   ]
  },
  {
   "cell_type": "code",
   "execution_count": 29,
   "id": "20599ada-f836-469f-ad5f-63c55211fe6a",
   "metadata": {},
   "outputs": [
    {
     "name": "stdout",
     "output_type": "stream",
     "text": [
      "CookBook\n"
     ]
    }
   ],
   "source": [
    "print(\"%5s\" % \"CookBook\")\n"
   ]
  },
  {
   "cell_type": "code",
   "execution_count": 31,
   "id": "1420077c-5657-4d01-9ec9-64f99fb81a25",
   "metadata": {},
   "outputs": [
    {
     "name": "stdout",
     "output_type": "stream",
     "text": [
      "123.5\n"
     ]
    }
   ],
   "source": [
    "print(\"%1.1f\" % 123.45)"
   ]
  },
  {
   "cell_type": "code",
   "execution_count": 35,
   "id": "8a7dd8ab-09aa-45e3-9727-e855bff2d6dd",
   "metadata": {},
   "outputs": [
    {
     "name": "stdin",
     "output_type": "stream",
     "text": [
      " 글자 입력 :  5\n"
     ]
    },
    {
     "name": "stdout",
     "output_type": "stream",
     "text": [
      " 8진수 또는 10진수 또는 16진수 입니다\n"
     ]
    }
   ],
   "source": [
    "num=input(\" 글자 입력 : \")\n",
    "if ('0' <= num and num <= '1') :\n",
    "    print(\" 2진수 또는 8진수 또는 10진수 또는 16진수 입니다\")\n",
    "elif ('2' <= num and num <= '7') :\n",
    "    print(\" 8진수 또는 10진수 또는 16진수 입니다\")\n",
    "elif ('8' <= num and num <= '9') :\n",
    "    print(\" 10진수 또는 16진수 입니다\")\n",
    "elif ('a' <= num and num <= 'f') or ('A' <= num and num <= 'F') :\n",
    "    print(\" 16진수 입니다\")\n",
    "else :\n",
    "    print(\" 숫자가 아닙니다.\")"
   ]
  },
  {
   "cell_type": "code",
   "execution_count": 37,
   "id": "ecdcb226-923f-4d47-8c35-c9706fb96e2d",
   "metadata": {},
   "outputs": [
    {
     "name": "stdin",
     "output_type": "stream",
     "text": [
      "교환 할 돈은 얼마? 7777\n"
     ]
    },
    {
     "name": "stdout",
     "output_type": "stream",
     "text": [
      "\n",
      " 500원짜리 ==> 15개\n",
      " 100원짜리 ==> 2개\n",
      " 50원짜리 ==> 1개\n",
      " 10원짜리 ==> 2개\n",
      " 바꾸지 못한 잔돈 ==> 7원 \n",
      "\n"
     ]
    }
   ],
   "source": [
    "## 변수 선언 부분 ##\n",
    "money, c500, c100, c50, c0 = 0, 0, 0, 0, 0\n",
    "\n",
    "## 메인 코드 부분 ##\n",
    "money = int(input(\"교환 할 돈은 얼마?\"))\n",
    "\n",
    "c500 = money //500\n",
    "money %= 500\n",
    "\n",
    "c100 = money // 100\n",
    "money %= 100\n",
    "\n",
    "c50 = money // 50\n",
    "money %= 50\n",
    "\n",
    "c10 = money // 10\n",
    "money %= 10\n",
    "\n",
    "print(\"\\n 500원짜리 ==> %d개\" % c500)\n",
    "print(\" 100원짜리 ==> %d개\" % c100)\n",
    "print(\" 50원짜리 ==> %d개\" % c50)\n",
    "print(\" 10원짜리 ==> %d개\" % c10)\n",
    "print(\" 바꾸지 못한 잔돈 ==> %d원 \\n\" % money)"
   ]
  },
  {
   "cell_type": "markdown",
   "id": "91aa3ee5-31a0-4863-92e4-0997077d34be",
   "metadata": {},
   "source": [
    "## 관계연산자"
   ]
  },
  {
   "cell_type": "code",
   "execution_count": 38,
   "id": "4b4534b1-b989-47a8-9eb0-d647bdb703e4",
   "metadata": {},
   "outputs": [
    {
     "data": {
      "text/plain": [
       "False"
      ]
     },
     "execution_count": 38,
     "metadata": {},
     "output_type": "execute_result"
    }
   ],
   "source": [
    "10 == 5 "
   ]
  },
  {
   "cell_type": "code",
   "execution_count": 39,
   "id": "cd2b92e6-e530-480e-84f7-8d878dffad07",
   "metadata": {},
   "outputs": [
    {
     "data": {
      "text/plain": [
       "False"
      ]
     },
     "execution_count": 39,
     "metadata": {},
     "output_type": "execute_result"
    }
   ],
   "source": [
    "10 < 5 "
   ]
  },
  {
   "cell_type": "code",
   "execution_count": 40,
   "id": "7f0e2d88-cda2-4c9b-9e4e-132168fdc87c",
   "metadata": {},
   "outputs": [
    {
     "name": "stdout",
     "output_type": "stream",
     "text": [
      "5보다 크다\n"
     ]
    }
   ],
   "source": [
    "if 10 > 5:\n",
    "    print(\"5보다 크다\")"
   ]
  },
  {
   "cell_type": "code",
   "execution_count": 41,
   "id": "918da364-8efc-4cf7-b817-a04ac26caa6c",
   "metadata": {},
   "outputs": [
    {
     "data": {
      "text/plain": [
       "True"
      ]
     },
     "execution_count": 41,
     "metadata": {},
     "output_type": "execute_result"
    }
   ],
   "source": [
    "10 != 5"
   ]
  },
  {
   "cell_type": "code",
   "execution_count": null,
   "id": "72f8cd76-aa8c-469d-8059-7324f6fcf688",
   "metadata": {},
   "outputs": [
    {
     "data": {
      "text/plain": [
       "False"
      ]
     },
     "execution_count": 42,
     "metadata": {},
     "output_type": "execute_result"
    }
   ],
   "source": [
    "10 !- "
   ]
  }
 ],
 "metadata": {
  "kernelspec": {
   "display_name": "Python 3 (ipykernel)",
   "language": "python",
   "name": "python3"
  },
  "language_info": {
   "codemirror_mode": {
    "name": "ipython",
    "version": 3
   },
   "file_extension": ".py",
   "mimetype": "text/x-python",
   "name": "python",
   "nbconvert_exporter": "python",
   "pygments_lexer": "ipython3",
   "version": "3.9.7"
  }
 },
 "nbformat": 4,
 "nbformat_minor": 5
}
